{
 "cells": [
  {
   "cell_type": "code",
   "execution_count": 2,
   "metadata": {},
   "outputs": [
    {
     "name": "stdout",
     "output_type": "stream",
     "text": [
      "The autoreload extension is already loaded. To reload it, use:\n",
      "  %reload_ext autoreload\n"
     ]
    }
   ],
   "source": [
    "%load_ext autoreload\n",
    "%autoreload 2"
   ]
  },
  {
   "cell_type": "code",
   "execution_count": 3,
   "metadata": {},
   "outputs": [
    {
     "name": "stderr",
     "output_type": "stream",
     "text": [
      "C:\\Users\\nakago\\Anaconda3\\lib\\site-packages\\h5py\\__init__.py:36: FutureWarning: Conversion of the second argument of issubdtype from `float` to `np.floating` is deprecated. In future, it will be treated as `np.float64 == np.dtype(float).type`.\n",
      "  from ._conv import register_converters as _register_converters\n"
     ]
    }
   ],
   "source": [
    "import numpy as np\n",
    "from chainer_chemistry.datasets.numpy_tuple_dataset import NumpyTupleDataset\n",
    "from chainer_chemistry.datasets.molnet import get_molnet_dataset\n",
    "from chainer_chemistry.dataset.preprocessors.ggnn_preprocessor import GGNNPreprocessor"
   ]
  },
  {
   "cell_type": "code",
   "execution_count": 4,
   "metadata": {},
   "outputs": [],
   "source": [
    "#from chainer_chemistry.datasets.zinc import get_zinc250k\n",
    "#target_index = np.arange(500)  # For debug\n",
    "#dataset, smiles = get_zinc250k(preprocessor, labels='logP', target_index=target_index,\n",
    "#                       return_smiles=True)"
   ]
  },
  {
   "cell_type": "code",
   "execution_count": 5,
   "metadata": {},
   "outputs": [
    {
     "name": "stderr",
     "output_type": "stream",
     "text": [
      "100%|█████████████████████████████████████████████████████████████████████████████| 1128/1128 [00:01<00:00, 765.61it/s]\n"
     ]
    }
   ],
   "source": [
    "preprocessor = GGNNPreprocessor()\n",
    "\n",
    "result = get_molnet_dataset('delaney', preprocessor, labels=None, return_smiles=True)\n",
    "train = result['dataset'][0]\n",
    "smiles = result['smiles'][0]"
   ]
  },
  {
   "cell_type": "code",
   "execution_count": 6,
   "metadata": {},
   "outputs": [],
   "source": [
    "import chainer\n",
    "from chainer_chemistry.models.ggnn import GGNN\n",
    "from chainer.functions import relu, dropout\n",
    "\n",
    "from chainer_chemistry.models.mlp import MLP\n",
    "\n",
    "\n",
    "def activation_relu_dropout(h):\n",
    "    return dropout(relu(h), ratio=0.25)\n",
    "\n",
    "class GraphConvPredictor(chainer.Chain):\n",
    "    def __init__(self, graph_conv, mlp=None):\n",
    "        \"\"\"Initializes the graph convolution predictor.\n",
    "        Args:\n",
    "            graph_conv: The graph convolution network required to obtain\n",
    "                        molecule feature representation.\n",
    "            mlp: Multi layer perceptron; used as the final fully connected\n",
    "                 layer. Set it to `None` if no operation is necessary\n",
    "                 after the `graph_conv` calculation.\n",
    "        \"\"\"\n",
    "        super(GraphConvPredictor, self).__init__()\n",
    "        with self.init_scope():\n",
    "            self.graph_conv = graph_conv\n",
    "            if isinstance(mlp, chainer.Link):\n",
    "                self.mlp = mlp\n",
    "        if not isinstance(mlp, chainer.Link):\n",
    "            self.mlp = mlp\n",
    "\n",
    "    def __call__(self, atoms, adjs):\n",
    "        x = self.graph_conv(atoms, adjs)\n",
    "        if self.mlp:\n",
    "            x = self.mlp(x)\n",
    "        return x\n",
    "\n",
    "n_unit = 32\n",
    "conv_layers = 4\n",
    "class_num = 1\n",
    "\n",
    "ggnn = GGNN(out_dim=n_unit, hidden_dim=n_unit, n_layers=conv_layers)\n",
    "mlp = MLP(out_dim=class_num, hidden_dim=n_unit, activation=activation_relu_dropout)\n",
    "predictor = GraphConvPredictor(ggnn, mlp)"
   ]
  },
  {
   "cell_type": "code",
   "execution_count": 10,
   "metadata": {},
   "outputs": [],
   "source": [
    "device = -1  # -1 for CPU, 0 for GPU"
   ]
  },
  {
   "cell_type": "code",
   "execution_count": 11,
   "metadata": {},
   "outputs": [],
   "source": [
    "from chainer_chemistry.models.prediction.regressor import Regressor\n",
    "\n",
    "regressor = Regressor(predictor, device=device)"
   ]
  },
  {
   "cell_type": "code",
   "execution_count": 12,
   "metadata": {},
   "outputs": [],
   "source": [
    "from chainer import iterators\n",
    "from chainer import optimizers\n",
    "from chainer import training\n",
    "from chainer.training import extensions as E\n",
    "\n",
    "from chainer_chemistry.dataset.converters import concat_mols\n",
    "\n",
    "\n",
    "def fit(model, dataset, batchsize=16, epoch=10, out='results/tmp', device=-1, converter=concat_mols):\n",
    "    train_iter = iterators.SerialIterator(train, batchsize)\n",
    "    optimizer = optimizers.Adam(alpha=0.0001)\n",
    "    optimizer.setup(model)\n",
    "\n",
    "    updater = training.StandardUpdater(\n",
    "        train_iter, optimizer, device=device, converter=converter)\n",
    "    trainer = training.Trainer(updater, (epoch, 'epoch'), out=out)\n",
    "\n",
    "    #trainer.extend(E.Evaluator(val_iter, classifier,\n",
    "    #                           device=device, converter=concat_mols))\n",
    "    trainer.extend(E.LogReport(), trigger=(1, 'epoch'))\n",
    "    trainer.extend(E.PrintReport([\n",
    "        'epoch', 'main/loss', 'main/accuracy', 'validation/main/loss',\n",
    "        'validation/main/accuracy', 'elapsed_time']))\n",
    "    trainer.run()"
   ]
  },
  {
   "cell_type": "code",
   "execution_count": 13,
   "metadata": {},
   "outputs": [
    {
     "name": "stdout",
     "output_type": "stream",
     "text": [
      "epoch       main/loss   main/accuracy  validation/main/loss  validation/main/accuracy  elapsed_time\n",
      "1           5.41981                                                                    8.12834       \n",
      "2           6.90768                                                                    14.4972       \n",
      "3           6.38935                                                                    21.5199       \n",
      "4           2.37403                                                                    29.4456       \n",
      "5           8.05217                                                                    36.0135       \n",
      "6           1.98319                                                                    43.8547       \n",
      "7           1.97673                                                                    52.5723       \n",
      "8           2.05338                                                                    58.9058       \n",
      "9           1.78444                                                                    65.6007       \n",
      "10          1.73786                                                                    71.8469       \n",
      "11          2.39307                                                                    78.6177       \n",
      "12          2.55399                                                                    85.1894       \n",
      "13          3.21323                                                                    91.3873       \n",
      "14          1.83583                                                                    96.8095       \n",
      "15          0.917099                                                                   102.962       \n",
      "16          2.24055                                                                    108.94        \n",
      "17          1.56465                                                                    114.22        \n",
      "18          0.719747                                                                   120.625       \n",
      "19          1.48355                                                                    126.666       \n",
      "20          1.53392                                                                    132.435       \n",
      "21          0.761911                                                                   139.464       \n",
      "22          1.72084                                                                    145.435       \n",
      "23          1.80777                                                                    150.759       \n",
      "24          1.66719                                                                    162.57        \n",
      "25          1.23833                                                                    175.274       \n",
      "26          1.88334                                                                    187.406       \n",
      "27          1.12544                                                                    197.174       \n",
      "28          0.942652                                                                   203.533       \n",
      "29          1.19422                                                                    210.177       \n",
      "30          1.97983                                                                    216.968       \n",
      "31          0.993105                                                                   223.448       \n",
      "32          1.80053                                                                    234.305       \n",
      "33          0.643631                                                                   242.835       \n",
      "34          2.73943                                                                    252.688       \n",
      "35          0.770932                                                                   259.96        \n",
      "36          1.59419                                                                    265.448       \n",
      "37          0.404183                                                                   270.931       \n",
      "38          1.36083                                                                    277.552       \n",
      "39          1.87305                                                                    282.756       \n",
      "40          1.91275                                                                    288.158       \n"
     ]
    }
   ],
   "source": [
    "fit(regressor, train, batchsize=16, epoch=40, device=device)"
   ]
  },
  {
   "cell_type": "code",
   "execution_count": null,
   "metadata": {},
   "outputs": [],
   "source": []
  },
  {
   "cell_type": "markdown",
   "metadata": {},
   "source": [
    "## Saliency visualization"
   ]
  },
  {
   "cell_type": "code",
   "execution_count": 14,
   "metadata": {},
   "outputs": [],
   "source": [
    "import chainer.functions as F\n",
    "\n",
    "from chainer_chemistry.saliency.calculator.gradient_calculator import GradientCalculator\n",
    "from chainer_chemistry.saliency.calculator.integrated_gradients_calculator import IntegratedGradientsCalculator\n",
    "from chainer_chemistry.link_hooks.variable_monitor_link_hook import VariableMonitorLinkHook\n",
    "\n",
    "\n",
    "\n",
    "def eval_fun(x, adj, t):\n",
    "    pred =  predictor(x, adj)\n",
    "    pred_summed = F.sum(pred)\n",
    "    return pred_summed\n",
    "\n",
    "# 1. instantiation\n",
    "#gradient_calculator = GradientCalculator(\n",
    "#    predictor, eval_fun=eval_fun, target_extractor=VariableMonitorLinkHook(ggnn.embed, timing='post'))\n",
    "calculator = IntegratedGradientsCalculator(\n",
    "    predictor, steps=5, eval_fun=eval_fun, target_extractor=VariableMonitorLinkHook(ggnn.embed, timing='post'),\n",
    "    device=device)\n",
    "\n"
   ]
  },
  {
   "cell_type": "code",
   "execution_count": 15,
   "metadata": {},
   "outputs": [
    {
     "name": "stderr",
     "output_type": "stream",
     "text": [
      "100%|████████████████████████████████████████████████████████████████████████████████████| 1/1 [00:30<00:00, 30.55s/it]\n",
      "100%|████████████████████████████████████████████████████████████████████████████████████| 5/5 [01:48<00:00, 21.20s/it]\n",
      "100%|████████████████████████████████████████████████████████████████████████████████████| 5/5 [01:48<00:00, 21.86s/it]\n"
     ]
    }
   ],
   "source": [
    "from chainer_chemistry.saliency.calculator.calculator_utils import GaussianNoiseSampler\n",
    "\n",
    "M = 5\n",
    "# 2. compute\n",
    "saliency_samples_vanilla = calculator.compute(\n",
    "    train, M=1, converter=concat_mols)\n",
    "saliency_samples_smooth = calculator.compute(\n",
    "    train, M=M, converter=concat_mols, noise_sampler=GaussianNoiseSampler())\n",
    "saliency_samples_bayes = calculator.compute(\n",
    "    train, M=M, converter=concat_mols, train=True)"
   ]
  },
  {
   "cell_type": "code",
   "execution_count": null,
   "metadata": {},
   "outputs": [],
   "source": []
  },
  {
   "cell_type": "code",
   "execution_count": 16,
   "metadata": {},
   "outputs": [],
   "source": [
    "from chainer_chemistry.saliency.visualizer.mol_visualizer import SmilesVisualizer\n",
    "from chainer_chemistry.saliency.visualizer.visualizer_utils import abs_max_scaler\n",
    "\n",
    "\n",
    "visualizer = SmilesVisualizer()"
   ]
  },
  {
   "cell_type": "code",
   "execution_count": null,
   "metadata": {
    "scrolled": true
   },
   "outputs": [],
   "source": []
  },
  {
   "cell_type": "code",
   "execution_count": 18,
   "metadata": {},
   "outputs": [],
   "source": [
    "# Multiple plot demo\n",
    "import os\n",
    "from ipywidgets import interact\n",
    "from IPython.display import display, HTML\n",
    "\n",
    "def sv_visualize(i, ratio, method, view):\n",
    "    saliency_vanilla = calculator.aggregate(\n",
    "        saliency_samples_vanilla, ch_axis=3, method=method)\n",
    "    saliency_smooth = calculator.aggregate(\n",
    "        saliency_samples_smooth, ch_axis=3, method=method)\n",
    "    saliency_bayes = calculator.aggregate(\n",
    "        saliency_samples_bayes, ch_axis=3, method=method)\n",
    "    \n",
    "    scaler = abs_max_scaler\n",
    "    if view == 'view':\n",
    "        svg_vanilla = visualizer.visualize(saliency_vanilla[i], smiles[i], visualize_ratio=ratio, scaler=scaler)\n",
    "        svg_smooth = visualizer.visualize(saliency_smooth[i], smiles[i], visualize_ratio=ratio, scaler=scaler)\n",
    "        svg_bayes = visualizer.visualize(saliency_bayes[i], smiles[i], visualize_ratio=ratio, scaler=scaler)\n",
    "        display(svg_vanilla, svg_smooth, svg_bayes)\n",
    "        #display(svg_bayes)\n",
    "    elif view == 'save':\n",
    "        os.makedirs('results', exist_ok=True)\n",
    "        visualizer.visualize(saliency_vanilla[i], smiles[i], visualize_ratio=ratio, scaler=scaler,\n",
    "                     save_filepath='results/{}_vanilla.png'.format(i))\n",
    "        visualizer.visualize(saliency_smooth[i], smiles[i], visualize_ratio=ratio, scaler=scaler,\n",
    "                     save_filepath='results/{}_smooth.png'.format(i))\n",
    "        visualizer.visualize(saliency_bayes[i], smiles[i], visualize_ratio=ratio, scaler=scaler,\n",
    "                     save_filepath='results/{}_bayes.png'.format(i))\n",
    "        print('saved {}-th result!'.format(i))\n",
    "    else:\n",
    "        print(view, 'not supported')"
   ]
  },
  {
   "cell_type": "code",
   "execution_count": 26,
   "metadata": {},
   "outputs": [
    {
     "data": {
      "image/svg+xml": [
       "<svg baseProfile=\"full\" height=\"375px\" version=\"1.1\" width=\"500px\" xml:space=\"preserve\" xmlns:rdkit=\"http://www.rdkit.org/xml\" xmlns:svg=\"http://www.w3.org/2000/svg\" xmlns:xlink=\"http://www.w3.org/1999/xlink\">\n",
       "<rect height=\"375\" style=\"opacity:1.0;fill:#FFFFFF;stroke:none\" width=\"500\" x=\"0\" y=\"0\"> </rect>\n",
       "<path d=\"M 22.7273,54.7167 49.2184,158.2\" style=\"fill:none;fill-rule:evenodd;stroke:#FFFFFF;stroke-width:16px;stroke-linecap:butt;stroke-linejoin:miter;stroke-opacity:1\"/>\n",
       "<path d=\"M 49.2184,158.2 152.083,187\" style=\"fill:none;fill-rule:evenodd;stroke:#FFFFFF;stroke-width:16px;stroke-linecap:butt;stroke-linejoin:miter;stroke-opacity:1\"/>\n",
       "<path d=\"M 152.083,187 105.859,283.301\" style=\"fill:none;fill-rule:evenodd;stroke:#FFFFFF;stroke-width:16px;stroke-linecap:butt;stroke-linejoin:miter;stroke-opacity:1\"/>\n",
       "<path d=\"M 152.083,187 162.583,80.6968\" style=\"fill:none;fill-rule:evenodd;stroke:#FFFFFF;stroke-width:16px;stroke-linecap:butt;stroke-linejoin:miter;stroke-opacity:1\"/>\n",
       "<path d=\"M 152.083,187 238.894,249.245\" style=\"fill:none;fill-rule:evenodd;stroke:#FFFFFF;stroke-width:16px;stroke-linecap:butt;stroke-linejoin:miter;stroke-opacity:1\"/>\n",
       "<path d=\"M 162.583,80.6968 75.7719,18.452\" style=\"fill:none;fill-rule:evenodd;stroke:#FFFFFF;stroke-width:16px;stroke-linecap:butt;stroke-linejoin:miter;stroke-opacity:1\"/>\n",
       "<path d=\"M 162.583,80.6968 259.894,36.6385\" style=\"fill:none;fill-rule:evenodd;stroke:#FFFFFF;stroke-width:16px;stroke-linecap:butt;stroke-linejoin:miter;stroke-opacity:1\"/>\n",
       "<path d=\"M 259.894,36.6385 346.706,98.8833\" style=\"fill:none;fill-rule:evenodd;stroke:#FFFFFF;stroke-width:16px;stroke-linecap:butt;stroke-linejoin:miter;stroke-opacity:1\"/>\n",
       "<path d=\"M 346.706,98.8833 444.017,54.825\" style=\"fill:none;fill-rule:evenodd;stroke:#FFFFFF;stroke-width:16px;stroke-linecap:butt;stroke-linejoin:miter;stroke-opacity:1\"/>\n",
       "<path d=\"M 346.706,98.8833 336.206,205.186\" style=\"fill:none;fill-rule:evenodd;stroke:#FFFFFF;stroke-width:16px;stroke-linecap:butt;stroke-linejoin:miter;stroke-opacity:1\"/>\n",
       "<path d=\"M 336.206,205.186 238.894,249.245\" style=\"fill:none;fill-rule:evenodd;stroke:#FFFFFF;stroke-width:16px;stroke-linecap:butt;stroke-linejoin:miter;stroke-opacity:1\"/>\n",
       "<path d=\"M 238.894,249.245 228.395,355.548\" style=\"fill:none;fill-rule:evenodd;stroke:#FFFFFF;stroke-width:16px;stroke-linecap:butt;stroke-linejoin:miter;stroke-opacity:1\"/>\n",
       "<ellipse cx=\"22.7273\" cy=\"54.7167\" rx=\"28.4855\" ry=\"28.4855\" style=\"fill:#5858FF;fill-rule:evenodd;stroke:#5858FF;stroke-width:1px;stroke-linecap:butt;stroke-linejoin:miter;stroke-opacity:1\"/>\n",
       "<ellipse cx=\"49.2184\" cy=\"158.2\" rx=\"28.4855\" ry=\"28.4855\" style=\"fill:#0707FF;fill-rule:evenodd;stroke:#0707FF;stroke-width:1px;stroke-linecap:butt;stroke-linejoin:miter;stroke-opacity:1\"/>\n",
       "<ellipse cx=\"105.859\" cy=\"283.301\" rx=\"28.4855\" ry=\"28.4855\" style=\"fill:#4545FF;fill-rule:evenodd;stroke:#4545FF;stroke-width:1px;stroke-linecap:butt;stroke-linejoin:miter;stroke-opacity:1\"/>\n",
       "<ellipse cx=\"162.583\" cy=\"80.6968\" rx=\"28.4855\" ry=\"28.4855\" style=\"fill:#0000FF;fill-rule:evenodd;stroke:#0000FF;stroke-width:1px;stroke-linecap:butt;stroke-linejoin:miter;stroke-opacity:1\"/>\n",
       "<ellipse cx=\"75.7719\" cy=\"18.452\" rx=\"28.4855\" ry=\"28.4855\" style=\"fill:#FF3A3A;fill-rule:evenodd;stroke:#FF3A3A;stroke-width:1px;stroke-linecap:butt;stroke-linejoin:miter;stroke-opacity:1\"/>\n",
       "<ellipse cx=\"346.706\" cy=\"98.8833\" rx=\"28.4855\" ry=\"28.4855\" style=\"fill:#0101FF;fill-rule:evenodd;stroke:#0101FF;stroke-width:1px;stroke-linecap:butt;stroke-linejoin:miter;stroke-opacity:1\"/>\n",
       "<ellipse cx=\"444.017\" cy=\"54.825\" rx=\"28.4855\" ry=\"28.4855\" style=\"fill:#FF9292;fill-rule:evenodd;stroke:#FF9292;stroke-width:1px;stroke-linecap:butt;stroke-linejoin:miter;stroke-opacity:1\"/>\n",
       "<ellipse cx=\"238.894\" cy=\"249.245\" rx=\"28.4855\" ry=\"28.4855\" style=\"fill:#0000FF;fill-rule:evenodd;stroke:#0000FF;stroke-width:1px;stroke-linecap:butt;stroke-linejoin:miter;stroke-opacity:1\"/>\n",
       "<ellipse cx=\"228.395\" cy=\"355.548\" rx=\"28.4855\" ry=\"28.4855\" style=\"fill:#FF3A3A;fill-rule:evenodd;stroke:#FF3A3A;stroke-width:1px;stroke-linecap:butt;stroke-linejoin:miter;stroke-opacity:1\"/>\n",
       "<path d=\"M 22.7273,54.7167 49.2184,158.2\" style=\"fill:none;fill-rule:evenodd;stroke:#000000;stroke-width:2px;stroke-linecap:butt;stroke-linejoin:miter;stroke-opacity:1\"/>\n",
       "<path d=\"M 49.2184,158.2 152.083,187\" style=\"fill:none;fill-rule:evenodd;stroke:#000000;stroke-width:2px;stroke-linecap:butt;stroke-linejoin:miter;stroke-opacity:1\"/>\n",
       "<path d=\"M 152.083,187 105.859,283.301\" style=\"fill:none;fill-rule:evenodd;stroke:#000000;stroke-width:2px;stroke-linecap:butt;stroke-linejoin:miter;stroke-opacity:1\"/>\n",
       "<path d=\"M 152.083,187 162.583,80.6968\" style=\"fill:none;fill-rule:evenodd;stroke:#000000;stroke-width:2px;stroke-linecap:butt;stroke-linejoin:miter;stroke-opacity:1\"/>\n",
       "<path d=\"M 152.083,187 238.894,249.245\" style=\"fill:none;fill-rule:evenodd;stroke:#000000;stroke-width:2px;stroke-linecap:butt;stroke-linejoin:miter;stroke-opacity:1\"/>\n",
       "<path d=\"M 168.808,72.0157 128.904,43.4046\" style=\"fill:none;fill-rule:evenodd;stroke:#000000;stroke-width:2px;stroke-linecap:butt;stroke-linejoin:miter;stroke-opacity:1\"/>\n",
       "<path d=\"M 128.904,43.4046 89.0012,14.7934\" style=\"fill:none;fill-rule:evenodd;stroke:#FF0000;stroke-width:2px;stroke-linecap:butt;stroke-linejoin:miter;stroke-opacity:1\"/>\n",
       "<path d=\"M 156.359,89.378 116.455,60.7668\" style=\"fill:none;fill-rule:evenodd;stroke:#000000;stroke-width:2px;stroke-linecap:butt;stroke-linejoin:miter;stroke-opacity:1\"/>\n",
       "<path d=\"M 116.455,60.7668 76.5523,32.1557\" style=\"fill:none;fill-rule:evenodd;stroke:#FF0000;stroke-width:2px;stroke-linecap:butt;stroke-linejoin:miter;stroke-opacity:1\"/>\n",
       "<path d=\"M 162.583,80.6968 204.738,61.6109\" style=\"fill:none;fill-rule:evenodd;stroke:#000000;stroke-width:2px;stroke-linecap:butt;stroke-linejoin:miter;stroke-opacity:1\"/>\n",
       "<path d=\"M 204.738,61.6109 246.893,42.5249\" style=\"fill:none;fill-rule:evenodd;stroke:#0000FF;stroke-width:2px;stroke-linecap:butt;stroke-linejoin:miter;stroke-opacity:1\"/>\n",
       "<path d=\"M 270.354,44.1385 308.53,71.5109\" style=\"fill:none;fill-rule:evenodd;stroke:#0000FF;stroke-width:2px;stroke-linecap:butt;stroke-linejoin:miter;stroke-opacity:1\"/>\n",
       "<path d=\"M 308.53,71.5109 346.706,98.8833\" style=\"fill:none;fill-rule:evenodd;stroke:#000000;stroke-width:2px;stroke-linecap:butt;stroke-linejoin:miter;stroke-opacity:1\"/>\n",
       "<path d=\"M 351.112,108.614 396.265,88.171\" style=\"fill:none;fill-rule:evenodd;stroke:#000000;stroke-width:2px;stroke-linecap:butt;stroke-linejoin:miter;stroke-opacity:1\"/>\n",
       "<path d=\"M 396.265,88.171 441.418,67.7276\" style=\"fill:none;fill-rule:evenodd;stroke:#FF0000;stroke-width:2px;stroke-linecap:butt;stroke-linejoin:miter;stroke-opacity:1\"/>\n",
       "<path d=\"M 342.3,89.1522 387.453,68.7088\" style=\"fill:none;fill-rule:evenodd;stroke:#000000;stroke-width:2px;stroke-linecap:butt;stroke-linejoin:miter;stroke-opacity:1\"/>\n",
       "<path d=\"M 387.453,68.7088 432.606,48.2653\" style=\"fill:none;fill-rule:evenodd;stroke:#FF0000;stroke-width:2px;stroke-linecap:butt;stroke-linejoin:miter;stroke-opacity:1\"/>\n",
       "<path d=\"M 346.706,98.8833 341.826,148.285\" style=\"fill:none;fill-rule:evenodd;stroke:#000000;stroke-width:2px;stroke-linecap:butt;stroke-linejoin:miter;stroke-opacity:1\"/>\n",
       "<path d=\"M 341.826,148.285 336.947,197.686\" style=\"fill:none;fill-rule:evenodd;stroke:#0000FF;stroke-width:2px;stroke-linecap:butt;stroke-linejoin:miter;stroke-opacity:1\"/>\n",
       "<path d=\"M 323.205,211.073 281.049,230.159\" style=\"fill:none;fill-rule:evenodd;stroke:#0000FF;stroke-width:2px;stroke-linecap:butt;stroke-linejoin:miter;stroke-opacity:1\"/>\n",
       "<path d=\"M 281.049,230.159 238.894,249.245\" style=\"fill:none;fill-rule:evenodd;stroke:#000000;stroke-width:2px;stroke-linecap:butt;stroke-linejoin:miter;stroke-opacity:1\"/>\n",
       "<path d=\"M 228.264,248.195 223.385,297.596\" style=\"fill:none;fill-rule:evenodd;stroke:#000000;stroke-width:2px;stroke-linecap:butt;stroke-linejoin:miter;stroke-opacity:1\"/>\n",
       "<path d=\"M 223.385,297.596 218.505,346.998\" style=\"fill:none;fill-rule:evenodd;stroke:#FF0000;stroke-width:2px;stroke-linecap:butt;stroke-linejoin:miter;stroke-opacity:1\"/>\n",
       "<path d=\"M 249.525,250.295 244.645,299.696\" style=\"fill:none;fill-rule:evenodd;stroke:#000000;stroke-width:2px;stroke-linecap:butt;stroke-linejoin:miter;stroke-opacity:1\"/>\n",
       "<path d=\"M 244.645,299.696 239.766,349.098\" style=\"fill:none;fill-rule:evenodd;stroke:#FF0000;stroke-width:2px;stroke-linecap:butt;stroke-linejoin:miter;stroke-opacity:1\"/>\n",
       "<text style=\"font-size:15px;font-style:normal;font-weight:normal;fill-opacity:1;stroke:none;font-family:sans-serif;text-anchor:start;fill:#FF0000\" x=\"68.7671\" y=\"25.952\"><tspan>O</tspan></text>\n",
       "<text style=\"font-size:15px;font-style:normal;font-weight:normal;fill-opacity:1;stroke:none;font-family:sans-serif;text-anchor:start;fill:#0000FF\" x=\"246.893\" y=\"44.1385\"><tspan>NH</tspan></text>\n",
       "<text style=\"font-size:15px;font-style:normal;font-weight:normal;fill-opacity:1;stroke:none;font-family:sans-serif;text-anchor:start;fill:#FF0000\" x=\"437.012\" y=\"62.325\"><tspan>O</tspan></text>\n",
       "<text style=\"font-size:15px;font-style:normal;font-weight:normal;fill-opacity:1;stroke:none;font-family:sans-serif;text-anchor:start;fill:#0000FF\" x=\"323.205\" y=\"212.686\"><tspan>NH</tspan></text>\n",
       "<text style=\"font-size:15px;font-style:normal;font-weight:normal;fill-opacity:1;stroke:none;font-family:sans-serif;text-anchor:start;fill:#FF0000\" x=\"221.39\" y=\"363.048\"><tspan>O</tspan></text>\n",
       "</svg>"
      ],
      "text/plain": [
       "<IPython.core.display.SVG object>"
      ]
     },
     "metadata": {},
     "output_type": "display_data"
    },
    {
     "data": {
      "image/svg+xml": [
       "<svg baseProfile=\"full\" height=\"375px\" version=\"1.1\" width=\"500px\" xml:space=\"preserve\" xmlns:rdkit=\"http://www.rdkit.org/xml\" xmlns:svg=\"http://www.w3.org/2000/svg\" xmlns:xlink=\"http://www.w3.org/1999/xlink\">\n",
       "<rect height=\"375\" style=\"opacity:1.0;fill:#FFFFFF;stroke:none\" width=\"500\" x=\"0\" y=\"0\"> </rect>\n",
       "<path d=\"M 22.7273,54.7167 49.2184,158.2\" style=\"fill:none;fill-rule:evenodd;stroke:#FFFFFF;stroke-width:16px;stroke-linecap:butt;stroke-linejoin:miter;stroke-opacity:1\"/>\n",
       "<path d=\"M 49.2184,158.2 152.083,187\" style=\"fill:none;fill-rule:evenodd;stroke:#FFFFFF;stroke-width:16px;stroke-linecap:butt;stroke-linejoin:miter;stroke-opacity:1\"/>\n",
       "<path d=\"M 152.083,187 105.859,283.301\" style=\"fill:none;fill-rule:evenodd;stroke:#FFFFFF;stroke-width:16px;stroke-linecap:butt;stroke-linejoin:miter;stroke-opacity:1\"/>\n",
       "<path d=\"M 152.083,187 162.583,80.6968\" style=\"fill:none;fill-rule:evenodd;stroke:#FFFFFF;stroke-width:16px;stroke-linecap:butt;stroke-linejoin:miter;stroke-opacity:1\"/>\n",
       "<path d=\"M 152.083,187 238.894,249.245\" style=\"fill:none;fill-rule:evenodd;stroke:#FFFFFF;stroke-width:16px;stroke-linecap:butt;stroke-linejoin:miter;stroke-opacity:1\"/>\n",
       "<path d=\"M 162.583,80.6968 75.7719,18.452\" style=\"fill:none;fill-rule:evenodd;stroke:#FFFFFF;stroke-width:16px;stroke-linecap:butt;stroke-linejoin:miter;stroke-opacity:1\"/>\n",
       "<path d=\"M 162.583,80.6968 259.894,36.6385\" style=\"fill:none;fill-rule:evenodd;stroke:#FFFFFF;stroke-width:16px;stroke-linecap:butt;stroke-linejoin:miter;stroke-opacity:1\"/>\n",
       "<path d=\"M 259.894,36.6385 346.706,98.8833\" style=\"fill:none;fill-rule:evenodd;stroke:#FFFFFF;stroke-width:16px;stroke-linecap:butt;stroke-linejoin:miter;stroke-opacity:1\"/>\n",
       "<path d=\"M 346.706,98.8833 444.017,54.825\" style=\"fill:none;fill-rule:evenodd;stroke:#FFFFFF;stroke-width:16px;stroke-linecap:butt;stroke-linejoin:miter;stroke-opacity:1\"/>\n",
       "<path d=\"M 346.706,98.8833 336.206,205.186\" style=\"fill:none;fill-rule:evenodd;stroke:#FFFFFF;stroke-width:16px;stroke-linecap:butt;stroke-linejoin:miter;stroke-opacity:1\"/>\n",
       "<path d=\"M 336.206,205.186 238.894,249.245\" style=\"fill:none;fill-rule:evenodd;stroke:#FFFFFF;stroke-width:16px;stroke-linecap:butt;stroke-linejoin:miter;stroke-opacity:1\"/>\n",
       "<path d=\"M 238.894,249.245 228.395,355.548\" style=\"fill:none;fill-rule:evenodd;stroke:#FFFFFF;stroke-width:16px;stroke-linecap:butt;stroke-linejoin:miter;stroke-opacity:1\"/>\n",
       "<ellipse cx=\"49.2184\" cy=\"158.2\" rx=\"28.4855\" ry=\"28.4855\" style=\"fill:#8585FF;fill-rule:evenodd;stroke:#8585FF;stroke-width:1px;stroke-linecap:butt;stroke-linejoin:miter;stroke-opacity:1\"/>\n",
       "<ellipse cx=\"152.083\" cy=\"187\" rx=\"28.4855\" ry=\"28.4855\" style=\"fill:#8383FF;fill-rule:evenodd;stroke:#8383FF;stroke-width:1px;stroke-linecap:butt;stroke-linejoin:miter;stroke-opacity:1\"/>\n",
       "<ellipse cx=\"105.859\" cy=\"283.301\" rx=\"28.4855\" ry=\"28.4855\" style=\"fill:#4C4CFF;fill-rule:evenodd;stroke:#4C4CFF;stroke-width:1px;stroke-linecap:butt;stroke-linejoin:miter;stroke-opacity:1\"/>\n",
       "<ellipse cx=\"162.583\" cy=\"80.6968\" rx=\"28.4855\" ry=\"28.4855\" style=\"fill:#0000FF;fill-rule:evenodd;stroke:#0000FF;stroke-width:1px;stroke-linecap:butt;stroke-linejoin:miter;stroke-opacity:1\"/>\n",
       "<ellipse cx=\"75.7719\" cy=\"18.452\" rx=\"28.4855\" ry=\"28.4855\" style=\"fill:#FF8888;fill-rule:evenodd;stroke:#FF8888;stroke-width:1px;stroke-linecap:butt;stroke-linejoin:miter;stroke-opacity:1\"/>\n",
       "<ellipse cx=\"346.706\" cy=\"98.8833\" rx=\"28.4855\" ry=\"28.4855\" style=\"fill:#0303FF;fill-rule:evenodd;stroke:#0303FF;stroke-width:1px;stroke-linecap:butt;stroke-linejoin:miter;stroke-opacity:1\"/>\n",
       "<ellipse cx=\"444.017\" cy=\"54.825\" rx=\"28.4855\" ry=\"28.4855\" style=\"fill:#FF5050;fill-rule:evenodd;stroke:#FF5050;stroke-width:1px;stroke-linecap:butt;stroke-linejoin:miter;stroke-opacity:1\"/>\n",
       "<ellipse cx=\"238.894\" cy=\"249.245\" rx=\"28.4855\" ry=\"28.4855\" style=\"fill:#1515FF;fill-rule:evenodd;stroke:#1515FF;stroke-width:1px;stroke-linecap:butt;stroke-linejoin:miter;stroke-opacity:1\"/>\n",
       "<ellipse cx=\"228.395\" cy=\"355.548\" rx=\"28.4855\" ry=\"28.4855\" style=\"fill:#FF6A6A;fill-rule:evenodd;stroke:#FF6A6A;stroke-width:1px;stroke-linecap:butt;stroke-linejoin:miter;stroke-opacity:1\"/>\n",
       "<path d=\"M 22.7273,54.7167 49.2184,158.2\" style=\"fill:none;fill-rule:evenodd;stroke:#000000;stroke-width:2px;stroke-linecap:butt;stroke-linejoin:miter;stroke-opacity:1\"/>\n",
       "<path d=\"M 49.2184,158.2 152.083,187\" style=\"fill:none;fill-rule:evenodd;stroke:#000000;stroke-width:2px;stroke-linecap:butt;stroke-linejoin:miter;stroke-opacity:1\"/>\n",
       "<path d=\"M 152.083,187 105.859,283.301\" style=\"fill:none;fill-rule:evenodd;stroke:#000000;stroke-width:2px;stroke-linecap:butt;stroke-linejoin:miter;stroke-opacity:1\"/>\n",
       "<path d=\"M 152.083,187 162.583,80.6968\" style=\"fill:none;fill-rule:evenodd;stroke:#000000;stroke-width:2px;stroke-linecap:butt;stroke-linejoin:miter;stroke-opacity:1\"/>\n",
       "<path d=\"M 152.083,187 238.894,249.245\" style=\"fill:none;fill-rule:evenodd;stroke:#000000;stroke-width:2px;stroke-linecap:butt;stroke-linejoin:miter;stroke-opacity:1\"/>\n",
       "<path d=\"M 168.808,72.0157 128.904,43.4046\" style=\"fill:none;fill-rule:evenodd;stroke:#000000;stroke-width:2px;stroke-linecap:butt;stroke-linejoin:miter;stroke-opacity:1\"/>\n",
       "<path d=\"M 128.904,43.4046 89.0012,14.7934\" style=\"fill:none;fill-rule:evenodd;stroke:#FF0000;stroke-width:2px;stroke-linecap:butt;stroke-linejoin:miter;stroke-opacity:1\"/>\n",
       "<path d=\"M 156.359,89.378 116.455,60.7668\" style=\"fill:none;fill-rule:evenodd;stroke:#000000;stroke-width:2px;stroke-linecap:butt;stroke-linejoin:miter;stroke-opacity:1\"/>\n",
       "<path d=\"M 116.455,60.7668 76.5523,32.1557\" style=\"fill:none;fill-rule:evenodd;stroke:#FF0000;stroke-width:2px;stroke-linecap:butt;stroke-linejoin:miter;stroke-opacity:1\"/>\n",
       "<path d=\"M 162.583,80.6968 204.738,61.6109\" style=\"fill:none;fill-rule:evenodd;stroke:#000000;stroke-width:2px;stroke-linecap:butt;stroke-linejoin:miter;stroke-opacity:1\"/>\n",
       "<path d=\"M 204.738,61.6109 246.893,42.5249\" style=\"fill:none;fill-rule:evenodd;stroke:#0000FF;stroke-width:2px;stroke-linecap:butt;stroke-linejoin:miter;stroke-opacity:1\"/>\n",
       "<path d=\"M 270.354,44.1385 308.53,71.5109\" style=\"fill:none;fill-rule:evenodd;stroke:#0000FF;stroke-width:2px;stroke-linecap:butt;stroke-linejoin:miter;stroke-opacity:1\"/>\n",
       "<path d=\"M 308.53,71.5109 346.706,98.8833\" style=\"fill:none;fill-rule:evenodd;stroke:#000000;stroke-width:2px;stroke-linecap:butt;stroke-linejoin:miter;stroke-opacity:1\"/>\n",
       "<path d=\"M 351.112,108.614 396.265,88.171\" style=\"fill:none;fill-rule:evenodd;stroke:#000000;stroke-width:2px;stroke-linecap:butt;stroke-linejoin:miter;stroke-opacity:1\"/>\n",
       "<path d=\"M 396.265,88.171 441.418,67.7276\" style=\"fill:none;fill-rule:evenodd;stroke:#FF0000;stroke-width:2px;stroke-linecap:butt;stroke-linejoin:miter;stroke-opacity:1\"/>\n",
       "<path d=\"M 342.3,89.1522 387.453,68.7088\" style=\"fill:none;fill-rule:evenodd;stroke:#000000;stroke-width:2px;stroke-linecap:butt;stroke-linejoin:miter;stroke-opacity:1\"/>\n",
       "<path d=\"M 387.453,68.7088 432.606,48.2653\" style=\"fill:none;fill-rule:evenodd;stroke:#FF0000;stroke-width:2px;stroke-linecap:butt;stroke-linejoin:miter;stroke-opacity:1\"/>\n",
       "<path d=\"M 346.706,98.8833 341.826,148.285\" style=\"fill:none;fill-rule:evenodd;stroke:#000000;stroke-width:2px;stroke-linecap:butt;stroke-linejoin:miter;stroke-opacity:1\"/>\n",
       "<path d=\"M 341.826,148.285 336.947,197.686\" style=\"fill:none;fill-rule:evenodd;stroke:#0000FF;stroke-width:2px;stroke-linecap:butt;stroke-linejoin:miter;stroke-opacity:1\"/>\n",
       "<path d=\"M 323.205,211.073 281.049,230.159\" style=\"fill:none;fill-rule:evenodd;stroke:#0000FF;stroke-width:2px;stroke-linecap:butt;stroke-linejoin:miter;stroke-opacity:1\"/>\n",
       "<path d=\"M 281.049,230.159 238.894,249.245\" style=\"fill:none;fill-rule:evenodd;stroke:#000000;stroke-width:2px;stroke-linecap:butt;stroke-linejoin:miter;stroke-opacity:1\"/>\n",
       "<path d=\"M 228.264,248.195 223.385,297.596\" style=\"fill:none;fill-rule:evenodd;stroke:#000000;stroke-width:2px;stroke-linecap:butt;stroke-linejoin:miter;stroke-opacity:1\"/>\n",
       "<path d=\"M 223.385,297.596 218.505,346.998\" style=\"fill:none;fill-rule:evenodd;stroke:#FF0000;stroke-width:2px;stroke-linecap:butt;stroke-linejoin:miter;stroke-opacity:1\"/>\n",
       "<path d=\"M 249.525,250.295 244.645,299.696\" style=\"fill:none;fill-rule:evenodd;stroke:#000000;stroke-width:2px;stroke-linecap:butt;stroke-linejoin:miter;stroke-opacity:1\"/>\n",
       "<path d=\"M 244.645,299.696 239.766,349.098\" style=\"fill:none;fill-rule:evenodd;stroke:#FF0000;stroke-width:2px;stroke-linecap:butt;stroke-linejoin:miter;stroke-opacity:1\"/>\n",
       "<text style=\"font-size:15px;font-style:normal;font-weight:normal;fill-opacity:1;stroke:none;font-family:sans-serif;text-anchor:start;fill:#FF0000\" x=\"68.7671\" y=\"25.952\"><tspan>O</tspan></text>\n",
       "<text style=\"font-size:15px;font-style:normal;font-weight:normal;fill-opacity:1;stroke:none;font-family:sans-serif;text-anchor:start;fill:#0000FF\" x=\"246.893\" y=\"44.1385\"><tspan>NH</tspan></text>\n",
       "<text style=\"font-size:15px;font-style:normal;font-weight:normal;fill-opacity:1;stroke:none;font-family:sans-serif;text-anchor:start;fill:#FF0000\" x=\"437.012\" y=\"62.325\"><tspan>O</tspan></text>\n",
       "<text style=\"font-size:15px;font-style:normal;font-weight:normal;fill-opacity:1;stroke:none;font-family:sans-serif;text-anchor:start;fill:#0000FF\" x=\"323.205\" y=\"212.686\"><tspan>NH</tspan></text>\n",
       "<text style=\"font-size:15px;font-style:normal;font-weight:normal;fill-opacity:1;stroke:none;font-family:sans-serif;text-anchor:start;fill:#FF0000\" x=\"221.39\" y=\"363.048\"><tspan>O</tspan></text>\n",
       "</svg>"
      ],
      "text/plain": [
       "<IPython.core.display.SVG object>"
      ]
     },
     "metadata": {},
     "output_type": "display_data"
    },
    {
     "data": {
      "image/svg+xml": [
       "<svg baseProfile=\"full\" height=\"375px\" version=\"1.1\" width=\"500px\" xml:space=\"preserve\" xmlns:rdkit=\"http://www.rdkit.org/xml\" xmlns:svg=\"http://www.w3.org/2000/svg\" xmlns:xlink=\"http://www.w3.org/1999/xlink\">\n",
       "<rect height=\"375\" style=\"opacity:1.0;fill:#FFFFFF;stroke:none\" width=\"500\" x=\"0\" y=\"0\"> </rect>\n",
       "<path d=\"M 22.7273,54.7167 49.2184,158.2\" style=\"fill:none;fill-rule:evenodd;stroke:#FFFFFF;stroke-width:16px;stroke-linecap:butt;stroke-linejoin:miter;stroke-opacity:1\"/>\n",
       "<path d=\"M 49.2184,158.2 152.083,187\" style=\"fill:none;fill-rule:evenodd;stroke:#FFFFFF;stroke-width:16px;stroke-linecap:butt;stroke-linejoin:miter;stroke-opacity:1\"/>\n",
       "<path d=\"M 152.083,187 105.859,283.301\" style=\"fill:none;fill-rule:evenodd;stroke:#FFFFFF;stroke-width:16px;stroke-linecap:butt;stroke-linejoin:miter;stroke-opacity:1\"/>\n",
       "<path d=\"M 152.083,187 162.583,80.6968\" style=\"fill:none;fill-rule:evenodd;stroke:#FFFFFF;stroke-width:16px;stroke-linecap:butt;stroke-linejoin:miter;stroke-opacity:1\"/>\n",
       "<path d=\"M 152.083,187 238.894,249.245\" style=\"fill:none;fill-rule:evenodd;stroke:#FFFFFF;stroke-width:16px;stroke-linecap:butt;stroke-linejoin:miter;stroke-opacity:1\"/>\n",
       "<path d=\"M 162.583,80.6968 75.7719,18.452\" style=\"fill:none;fill-rule:evenodd;stroke:#FFFFFF;stroke-width:16px;stroke-linecap:butt;stroke-linejoin:miter;stroke-opacity:1\"/>\n",
       "<path d=\"M 162.583,80.6968 259.894,36.6385\" style=\"fill:none;fill-rule:evenodd;stroke:#FFFFFF;stroke-width:16px;stroke-linecap:butt;stroke-linejoin:miter;stroke-opacity:1\"/>\n",
       "<path d=\"M 259.894,36.6385 346.706,98.8833\" style=\"fill:none;fill-rule:evenodd;stroke:#FFFFFF;stroke-width:16px;stroke-linecap:butt;stroke-linejoin:miter;stroke-opacity:1\"/>\n",
       "<path d=\"M 346.706,98.8833 444.017,54.825\" style=\"fill:none;fill-rule:evenodd;stroke:#FFFFFF;stroke-width:16px;stroke-linecap:butt;stroke-linejoin:miter;stroke-opacity:1\"/>\n",
       "<path d=\"M 346.706,98.8833 336.206,205.186\" style=\"fill:none;fill-rule:evenodd;stroke:#FFFFFF;stroke-width:16px;stroke-linecap:butt;stroke-linejoin:miter;stroke-opacity:1\"/>\n",
       "<path d=\"M 336.206,205.186 238.894,249.245\" style=\"fill:none;fill-rule:evenodd;stroke:#FFFFFF;stroke-width:16px;stroke-linecap:butt;stroke-linejoin:miter;stroke-opacity:1\"/>\n",
       "<path d=\"M 238.894,249.245 228.395,355.548\" style=\"fill:none;fill-rule:evenodd;stroke:#FFFFFF;stroke-width:16px;stroke-linecap:butt;stroke-linejoin:miter;stroke-opacity:1\"/>\n",
       "<ellipse cx=\"22.7273\" cy=\"54.7167\" rx=\"28.4855\" ry=\"28.4855\" style=\"fill:#6363FF;fill-rule:evenodd;stroke:#6363FF;stroke-width:1px;stroke-linecap:butt;stroke-linejoin:miter;stroke-opacity:1\"/>\n",
       "<ellipse cx=\"49.2184\" cy=\"158.2\" rx=\"28.4855\" ry=\"28.4855\" style=\"fill:#1313FF;fill-rule:evenodd;stroke:#1313FF;stroke-width:1px;stroke-linecap:butt;stroke-linejoin:miter;stroke-opacity:1\"/>\n",
       "<ellipse cx=\"105.859\" cy=\"283.301\" rx=\"28.4855\" ry=\"28.4855\" style=\"fill:#5454FF;fill-rule:evenodd;stroke:#5454FF;stroke-width:1px;stroke-linecap:butt;stroke-linejoin:miter;stroke-opacity:1\"/>\n",
       "<ellipse cx=\"162.583\" cy=\"80.6968\" rx=\"28.4855\" ry=\"28.4855\" style=\"fill:#0101FF;fill-rule:evenodd;stroke:#0101FF;stroke-width:1px;stroke-linecap:butt;stroke-linejoin:miter;stroke-opacity:1\"/>\n",
       "<ellipse cx=\"75.7719\" cy=\"18.452\" rx=\"28.4855\" ry=\"28.4855\" style=\"fill:#FF4545;fill-rule:evenodd;stroke:#FF4545;stroke-width:1px;stroke-linecap:butt;stroke-linejoin:miter;stroke-opacity:1\"/>\n",
       "<ellipse cx=\"346.706\" cy=\"98.8833\" rx=\"28.4855\" ry=\"28.4855\" style=\"fill:#0000FF;fill-rule:evenodd;stroke:#0000FF;stroke-width:1px;stroke-linecap:butt;stroke-linejoin:miter;stroke-opacity:1\"/>\n",
       "<ellipse cx=\"444.017\" cy=\"54.825\" rx=\"28.4855\" ry=\"28.4855\" style=\"fill:#FFA3A3;fill-rule:evenodd;stroke:#FFA3A3;stroke-width:1px;stroke-linecap:butt;stroke-linejoin:miter;stroke-opacity:1\"/>\n",
       "<ellipse cx=\"238.894\" cy=\"249.245\" rx=\"28.4855\" ry=\"28.4855\" style=\"fill:#0101FF;fill-rule:evenodd;stroke:#0101FF;stroke-width:1px;stroke-linecap:butt;stroke-linejoin:miter;stroke-opacity:1\"/>\n",
       "<ellipse cx=\"228.395\" cy=\"355.548\" rx=\"28.4855\" ry=\"28.4855\" style=\"fill:#FF4545;fill-rule:evenodd;stroke:#FF4545;stroke-width:1px;stroke-linecap:butt;stroke-linejoin:miter;stroke-opacity:1\"/>\n",
       "<path d=\"M 22.7273,54.7167 49.2184,158.2\" style=\"fill:none;fill-rule:evenodd;stroke:#000000;stroke-width:2px;stroke-linecap:butt;stroke-linejoin:miter;stroke-opacity:1\"/>\n",
       "<path d=\"M 49.2184,158.2 152.083,187\" style=\"fill:none;fill-rule:evenodd;stroke:#000000;stroke-width:2px;stroke-linecap:butt;stroke-linejoin:miter;stroke-opacity:1\"/>\n",
       "<path d=\"M 152.083,187 105.859,283.301\" style=\"fill:none;fill-rule:evenodd;stroke:#000000;stroke-width:2px;stroke-linecap:butt;stroke-linejoin:miter;stroke-opacity:1\"/>\n",
       "<path d=\"M 152.083,187 162.583,80.6968\" style=\"fill:none;fill-rule:evenodd;stroke:#000000;stroke-width:2px;stroke-linecap:butt;stroke-linejoin:miter;stroke-opacity:1\"/>\n",
       "<path d=\"M 152.083,187 238.894,249.245\" style=\"fill:none;fill-rule:evenodd;stroke:#000000;stroke-width:2px;stroke-linecap:butt;stroke-linejoin:miter;stroke-opacity:1\"/>\n",
       "<path d=\"M 168.808,72.0157 128.904,43.4046\" style=\"fill:none;fill-rule:evenodd;stroke:#000000;stroke-width:2px;stroke-linecap:butt;stroke-linejoin:miter;stroke-opacity:1\"/>\n",
       "<path d=\"M 128.904,43.4046 89.0012,14.7934\" style=\"fill:none;fill-rule:evenodd;stroke:#FF0000;stroke-width:2px;stroke-linecap:butt;stroke-linejoin:miter;stroke-opacity:1\"/>\n",
       "<path d=\"M 156.359,89.378 116.455,60.7668\" style=\"fill:none;fill-rule:evenodd;stroke:#000000;stroke-width:2px;stroke-linecap:butt;stroke-linejoin:miter;stroke-opacity:1\"/>\n",
       "<path d=\"M 116.455,60.7668 76.5523,32.1557\" style=\"fill:none;fill-rule:evenodd;stroke:#FF0000;stroke-width:2px;stroke-linecap:butt;stroke-linejoin:miter;stroke-opacity:1\"/>\n",
       "<path d=\"M 162.583,80.6968 204.738,61.6109\" style=\"fill:none;fill-rule:evenodd;stroke:#000000;stroke-width:2px;stroke-linecap:butt;stroke-linejoin:miter;stroke-opacity:1\"/>\n",
       "<path d=\"M 204.738,61.6109 246.893,42.5249\" style=\"fill:none;fill-rule:evenodd;stroke:#0000FF;stroke-width:2px;stroke-linecap:butt;stroke-linejoin:miter;stroke-opacity:1\"/>\n",
       "<path d=\"M 270.354,44.1385 308.53,71.5109\" style=\"fill:none;fill-rule:evenodd;stroke:#0000FF;stroke-width:2px;stroke-linecap:butt;stroke-linejoin:miter;stroke-opacity:1\"/>\n",
       "<path d=\"M 308.53,71.5109 346.706,98.8833\" style=\"fill:none;fill-rule:evenodd;stroke:#000000;stroke-width:2px;stroke-linecap:butt;stroke-linejoin:miter;stroke-opacity:1\"/>\n",
       "<path d=\"M 351.112,108.614 396.265,88.171\" style=\"fill:none;fill-rule:evenodd;stroke:#000000;stroke-width:2px;stroke-linecap:butt;stroke-linejoin:miter;stroke-opacity:1\"/>\n",
       "<path d=\"M 396.265,88.171 441.418,67.7276\" style=\"fill:none;fill-rule:evenodd;stroke:#FF0000;stroke-width:2px;stroke-linecap:butt;stroke-linejoin:miter;stroke-opacity:1\"/>\n",
       "<path d=\"M 342.3,89.1522 387.453,68.7088\" style=\"fill:none;fill-rule:evenodd;stroke:#000000;stroke-width:2px;stroke-linecap:butt;stroke-linejoin:miter;stroke-opacity:1\"/>\n",
       "<path d=\"M 387.453,68.7088 432.606,48.2653\" style=\"fill:none;fill-rule:evenodd;stroke:#FF0000;stroke-width:2px;stroke-linecap:butt;stroke-linejoin:miter;stroke-opacity:1\"/>\n",
       "<path d=\"M 346.706,98.8833 341.826,148.285\" style=\"fill:none;fill-rule:evenodd;stroke:#000000;stroke-width:2px;stroke-linecap:butt;stroke-linejoin:miter;stroke-opacity:1\"/>\n",
       "<path d=\"M 341.826,148.285 336.947,197.686\" style=\"fill:none;fill-rule:evenodd;stroke:#0000FF;stroke-width:2px;stroke-linecap:butt;stroke-linejoin:miter;stroke-opacity:1\"/>\n",
       "<path d=\"M 323.205,211.073 281.049,230.159\" style=\"fill:none;fill-rule:evenodd;stroke:#0000FF;stroke-width:2px;stroke-linecap:butt;stroke-linejoin:miter;stroke-opacity:1\"/>\n",
       "<path d=\"M 281.049,230.159 238.894,249.245\" style=\"fill:none;fill-rule:evenodd;stroke:#000000;stroke-width:2px;stroke-linecap:butt;stroke-linejoin:miter;stroke-opacity:1\"/>\n",
       "<path d=\"M 228.264,248.195 223.385,297.596\" style=\"fill:none;fill-rule:evenodd;stroke:#000000;stroke-width:2px;stroke-linecap:butt;stroke-linejoin:miter;stroke-opacity:1\"/>\n",
       "<path d=\"M 223.385,297.596 218.505,346.998\" style=\"fill:none;fill-rule:evenodd;stroke:#FF0000;stroke-width:2px;stroke-linecap:butt;stroke-linejoin:miter;stroke-opacity:1\"/>\n",
       "<path d=\"M 249.525,250.295 244.645,299.696\" style=\"fill:none;fill-rule:evenodd;stroke:#000000;stroke-width:2px;stroke-linecap:butt;stroke-linejoin:miter;stroke-opacity:1\"/>\n",
       "<path d=\"M 244.645,299.696 239.766,349.098\" style=\"fill:none;fill-rule:evenodd;stroke:#FF0000;stroke-width:2px;stroke-linecap:butt;stroke-linejoin:miter;stroke-opacity:1\"/>\n",
       "<text style=\"font-size:15px;font-style:normal;font-weight:normal;fill-opacity:1;stroke:none;font-family:sans-serif;text-anchor:start;fill:#FF0000\" x=\"68.7671\" y=\"25.952\"><tspan>O</tspan></text>\n",
       "<text style=\"font-size:15px;font-style:normal;font-weight:normal;fill-opacity:1;stroke:none;font-family:sans-serif;text-anchor:start;fill:#0000FF\" x=\"246.893\" y=\"44.1385\"><tspan>NH</tspan></text>\n",
       "<text style=\"font-size:15px;font-style:normal;font-weight:normal;fill-opacity:1;stroke:none;font-family:sans-serif;text-anchor:start;fill:#FF0000\" x=\"437.012\" y=\"62.325\"><tspan>O</tspan></text>\n",
       "<text style=\"font-size:15px;font-style:normal;font-weight:normal;fill-opacity:1;stroke:none;font-family:sans-serif;text-anchor:start;fill:#0000FF\" x=\"323.205\" y=\"212.686\"><tspan>NH</tspan></text>\n",
       "<text style=\"font-size:15px;font-style:normal;font-weight:normal;fill-opacity:1;stroke:none;font-family:sans-serif;text-anchor:start;fill:#FF0000\" x=\"221.39\" y=\"363.048\"><tspan>O</tspan></text>\n",
       "</svg>"
      ],
      "text/plain": [
       "<IPython.core.display.SVG object>"
      ]
     },
     "metadata": {},
     "output_type": "display_data"
    }
   ],
   "source": [
    "sv_visualize(i=128, ratio=0.7, method='raw', view='view')"
   ]
  },
  {
   "cell_type": "code",
   "execution_count": 27,
   "metadata": {},
   "outputs": [
    {
     "data": {
      "application/vnd.jupyter.widget-view+json": {
       "model_id": "3b4d8232953f4e2c9b25a6e1eb8428b2",
       "version_major": 2,
       "version_minor": 0
      },
      "text/html": [
       "<p>Failed to display Jupyter Widget of type <code>interactive</code>.</p>\n",
       "<p>\n",
       "  If you're reading this message in the Jupyter Notebook or JupyterLab Notebook, it may mean\n",
       "  that the widgets JavaScript is still loading. If this message persists, it\n",
       "  likely means that the widgets JavaScript library is either not installed or\n",
       "  not enabled. See the <a href=\"https://ipywidgets.readthedocs.io/en/stable/user_install.html\">Jupyter\n",
       "  Widgets Documentation</a> for setup instructions.\n",
       "</p>\n",
       "<p>\n",
       "  If you're reading this message in another frontend (for example, a static\n",
       "  rendering on GitHub or <a href=\"https://nbviewer.jupyter.org/\">NBViewer</a>),\n",
       "  it may mean that your frontend doesn't currently support widgets.\n",
       "</p>\n"
      ],
      "text/plain": [
       "interactive(children=(IntSlider(value=450, description='i', max=901), FloatSlider(value=0.5, description='ratio', max=1.0), Dropdown(description='method', options=('raw',), value='raw'), Dropdown(description='view', options=('view', 'save'), value='view'), Output()), _dom_classes=('widget-interact',))"
      ]
     },
     "metadata": {},
     "output_type": "display_data"
    },
    {
     "data": {
      "text/plain": [
       "<function __main__.sv_visualize>"
      ]
     },
     "execution_count": 27,
     "metadata": {},
     "output_type": "execute_result"
    }
   ],
   "source": [
    "interact(sv_visualize, i=(0, len(train) - 1, 1), ratio=(0, 1.0, 0.1), method=['raw'], view=['view', 'save'])"
   ]
  },
  {
   "cell_type": "code",
   "execution_count": 32,
   "metadata": {},
   "outputs": [],
   "source": [
    "#!pip install cairosvg"
   ]
  }
 ],
 "metadata": {
  "kernelspec": {
   "display_name": "Python 3",
   "language": "python",
   "name": "python3"
  },
  "language_info": {
   "codemirror_mode": {
    "name": "ipython",
    "version": 3
   },
   "file_extension": ".py",
   "mimetype": "text/x-python",
   "name": "python",
   "nbconvert_exporter": "python",
   "pygments_lexer": "ipython3",
   "version": "3.6.4"
  }
 },
 "nbformat": 4,
 "nbformat_minor": 2
}
